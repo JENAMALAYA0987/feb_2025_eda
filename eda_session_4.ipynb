{
 "cells": [
  {
   "cell_type": "code",
   "execution_count": 60,
   "id": "57d4c958-ef3e-49ef-8aa5-ce8cd07cd781",
   "metadata": {},
   "outputs": [],
   "source": [
    "import pandas as pd\n",
    "import matplotlib.pyplot as plt\n",
    "import seaborn as sns\n",
    "import numpy as np"
   ]
  },
  {
   "cell_type": "code",
   "execution_count": 6,
   "id": "cf5f7021-518c-4811-895a-4bd66c2361e3",
   "metadata": {},
   "outputs": [
    {
     "data": {
      "text/plain": [
       "(Index(['no_of_employees', 'yr_of_estab', 'prevailing_wage'], dtype='object'),\n",
       " Index(['case_id', 'continent', 'education_of_employee', 'has_job_experience',\n",
       "        'requires_job_training', 'region_of_employment', 'unit_of_wage',\n",
       "        'full_time_position', 'case_status'],\n",
       "       dtype='object'))"
      ]
     },
     "execution_count": 6,
     "metadata": {},
     "output_type": "execute_result"
    }
   ],
   "source": [
    "visa_df=pd.read_csv(r\"C:\\Users\\malaya\\OneDrive\\Documents\\datafile\\Visadataset.csv\")\n",
    "cat=visa_df.select_dtypes(include='object').columns\n",
    "num=visa_df.select_dtypes(exclude='object').columns\n",
    "num,cat"
   ]
  },
  {
   "cell_type": "markdown",
   "id": "28ba716e-f695-44b3-b68e-c88fc4f81d92",
   "metadata": {},
   "source": [
    "**prevailing_wage**"
   ]
  },
  {
   "cell_type": "markdown",
   "id": "31a364ad-cac6-4c5e-a177-1e6dd1e360ff",
   "metadata": {},
   "source": [
    "- count\n",
    "- min\n",
    "- max\n",
    "- mean\n",
    "- median\n",
    "- 25%\n",
    "- 50%\n",
    "- 75%"
   ]
  },
  {
   "cell_type": "code",
   "execution_count": 8,
   "id": "22c41d28-5525-4309-a455-ef2762295fb6",
   "metadata": {},
   "outputs": [
    {
     "ename": "ValueError",
     "evalue": "at least one of include or exclude must be nonempty",
     "output_type": "error",
     "traceback": [
      "\u001b[1;31m---------------------------------------------------------------------------\u001b[0m",
      "\u001b[1;31mValueError\u001b[0m                                Traceback (most recent call last)",
      "\u001b[1;32m~\\AppData\\Local\\Temp\\ipykernel_19784\\2739606758.py\u001b[0m in \u001b[0;36m?\u001b[1;34m()\u001b[0m\n\u001b[1;32m----> 1\u001b[1;33m \u001b[0mcat\u001b[0m\u001b[1;33m=\u001b[0m\u001b[0mvisa_df\u001b[0m\u001b[1;33m.\u001b[0m\u001b[0mselect_dtypes\u001b[0m\u001b[1;33m(\u001b[0m\u001b[1;33m)\u001b[0m\u001b[1;33m.\u001b[0m\u001b[0mvalue\u001b[0m\u001b[1;33m\u001b[0m\u001b[1;33m\u001b[0m\u001b[0m\n\u001b[0m",
      "\u001b[1;32m~\\anaconda3\\Lib\\site-packages\\pandas\\core\\frame.py\u001b[0m in \u001b[0;36m?\u001b[1;34m(self, include, exclude)\u001b[0m\n\u001b[0;32m   5038\u001b[0m \u001b[1;33m\u001b[0m\u001b[0m\n\u001b[0;32m   5039\u001b[0m         \u001b[0mselection\u001b[0m \u001b[1;33m=\u001b[0m \u001b[1;33m(\u001b[0m\u001b[0mfrozenset\u001b[0m\u001b[1;33m(\u001b[0m\u001b[0minclude\u001b[0m\u001b[1;33m)\u001b[0m\u001b[1;33m,\u001b[0m \u001b[0mfrozenset\u001b[0m\u001b[1;33m(\u001b[0m\u001b[0mexclude\u001b[0m\u001b[1;33m)\u001b[0m\u001b[1;33m)\u001b[0m\u001b[1;33m\u001b[0m\u001b[1;33m\u001b[0m\u001b[0m\n\u001b[0;32m   5040\u001b[0m \u001b[1;33m\u001b[0m\u001b[0m\n\u001b[0;32m   5041\u001b[0m         \u001b[1;32mif\u001b[0m \u001b[1;32mnot\u001b[0m \u001b[0many\u001b[0m\u001b[1;33m(\u001b[0m\u001b[0mselection\u001b[0m\u001b[1;33m)\u001b[0m\u001b[1;33m:\u001b[0m\u001b[1;33m\u001b[0m\u001b[1;33m\u001b[0m\u001b[0m\n\u001b[1;32m-> 5042\u001b[1;33m             \u001b[1;32mraise\u001b[0m \u001b[0mValueError\u001b[0m\u001b[1;33m(\u001b[0m\u001b[1;34m\"at least one of include or exclude must be nonempty\"\u001b[0m\u001b[1;33m)\u001b[0m\u001b[1;33m\u001b[0m\u001b[1;33m\u001b[0m\u001b[0m\n\u001b[0m\u001b[0;32m   5043\u001b[0m \u001b[1;33m\u001b[0m\u001b[0m\n\u001b[0;32m   5044\u001b[0m         \u001b[1;31m# convert the myriad valid dtypes object to a single representation\u001b[0m\u001b[1;33m\u001b[0m\u001b[1;33m\u001b[0m\u001b[0m\n\u001b[0;32m   5045\u001b[0m         \u001b[1;32mdef\u001b[0m \u001b[0mcheck_int_infer_dtype\u001b[0m\u001b[1;33m(\u001b[0m\u001b[0mdtypes\u001b[0m\u001b[1;33m)\u001b[0m\u001b[1;33m:\u001b[0m\u001b[1;33m\u001b[0m\u001b[1;33m\u001b[0m\u001b[0m\n",
      "\u001b[1;31mValueError\u001b[0m: at least one of include or exclude must be nonempty"
     ]
    }
   ],
   "source": [
    "cat=visa_df.select_dtypes().value"
   ]
  },
  {
   "cell_type": "markdown",
   "id": "cfe20825-46b0-4704-8b28-362eca16e9f7",
   "metadata": {},
   "source": [
    "**count or len**"
   ]
  },
  {
   "cell_type": "code",
   "execution_count": 10,
   "id": "582d7d76-d72a-449e-9c5d-7481a06840bf",
   "metadata": {},
   "outputs": [
    {
     "data": {
      "text/plain": [
       "0           592.2029\n",
       "1         83425.6500\n",
       "2        122996.8600\n",
       "3         83434.0300\n",
       "4        149907.3900\n",
       "            ...     \n",
       "25475     77092.5700\n",
       "25476    279174.7900\n",
       "25477    146298.8500\n",
       "25478     86154.7700\n",
       "25479     70876.9100\n",
       "Name: prevailing_wage, Length: 25480, dtype: float64"
      ]
     },
     "execution_count": 10,
     "metadata": {},
     "output_type": "execute_result"
    }
   ],
   "source": [
    "visa_df['prevailing_wage']"
   ]
  },
  {
   "cell_type": "code",
   "execution_count": 12,
   "id": "434e945c-e990-47b2-bf7b-abeecbfc9e49",
   "metadata": {},
   "outputs": [
    {
     "data": {
      "text/plain": [
       "25480"
      ]
     },
     "execution_count": 12,
     "metadata": {},
     "output_type": "execute_result"
    }
   ],
   "source": [
    "len(visa_df['prevailing_wage'])"
   ]
  },
  {
   "cell_type": "code",
   "execution_count": 13,
   "id": "441779f9-678f-463f-a07f-1fc7b7e405b7",
   "metadata": {},
   "outputs": [
    {
     "data": {
      "text/plain": [
       "74455.81459209183"
      ]
     },
     "execution_count": 13,
     "metadata": {},
     "output_type": "execute_result"
    }
   ],
   "source": [
    "visa_df['prevailing_wage'].mean()"
   ]
  },
  {
   "cell_type": "code",
   "execution_count": 21,
   "id": "96286f5c-a888-441c-aae9-0342f42bc8ec",
   "metadata": {},
   "outputs": [
    {
     "data": {
      "text/plain": [
       "25480"
      ]
     },
     "execution_count": 21,
     "metadata": {},
     "output_type": "execute_result"
    }
   ],
   "source": [
    "wage_data=visa_df['prevailing_wage']\n",
    "len(wage_data)"
   ]
  },
  {
   "cell_type": "markdown",
   "id": "d0c39eeb-f6c8-4f4f-8002-4933f8b3e135",
   "metadata": {},
   "source": [
    "**mean**"
   ]
  },
  {
   "cell_type": "code",
   "execution_count": 17,
   "id": "82dd8cbc-66cd-4acd-980b-7f8970a2eca1",
   "metadata": {},
   "outputs": [],
   "source": [
    "import numpy as np"
   ]
  },
  {
   "cell_type": "code",
   "execution_count": 25,
   "id": "5b6aee4b-b65e-4311-be15-46f18123525e",
   "metadata": {},
   "outputs": [
    {
     "data": {
      "text/plain": [
       "74455.81459209183"
      ]
     },
     "execution_count": 25,
     "metadata": {},
     "output_type": "execute_result"
    }
   ],
   "source": [
    "np.mean(visa_df['prevailing_wage'])"
   ]
  },
  {
   "cell_type": "code",
   "execution_count": 21,
   "id": "5894edbb-071c-4b5b-a9bb-21d604f44796",
   "metadata": {},
   "outputs": [
    {
     "data": {
      "text/plain": [
       "74455.81"
      ]
     },
     "execution_count": 21,
     "metadata": {},
     "output_type": "execute_result"
    }
   ],
   "source": [
    "wage_data=visa_df['prevailing_wage']\n",
    "round(np.mean(wage_data),2)"
   ]
  },
  {
   "cell_type": "markdown",
   "id": "43749b50-8197-48e3-b740-299594a8168d",
   "metadata": {},
   "source": [
    "**median**"
   ]
  },
  {
   "cell_type": "code",
   "execution_count": 27,
   "id": "bee320d3-be80-401a-b8fb-06313ba26c3b",
   "metadata": {},
   "outputs": [
    {
     "data": {
      "text/plain": [
       "70308.21"
      ]
     },
     "execution_count": 27,
     "metadata": {},
     "output_type": "execute_result"
    }
   ],
   "source": [
    "round(visa_df['prevailing_wage'].median(),2)"
   ]
  },
  {
   "cell_type": "markdown",
   "id": "e95dc11f-8845-4ee6-a44b-a1aa9758eba9",
   "metadata": {},
   "source": [
    "**using numpy**"
   ]
  },
  {
   "cell_type": "code",
   "execution_count": 19,
   "id": "67e339ac-4b09-44e0-904b-61894bcafdd6",
   "metadata": {},
   "outputs": [
    {
     "data": {
      "text/plain": [
       "74455.81459209183"
      ]
     },
     "execution_count": 19,
     "metadata": {},
     "output_type": "execute_result"
    }
   ],
   "source": [
    "np.mean(visa_df['prevailing_wage'])"
   ]
  },
  {
   "cell_type": "code",
   "execution_count": 14,
   "id": "cb6abe1f-f034-4aa5-ad09-f1e7cc177544",
   "metadata": {},
   "outputs": [
    {
     "data": {
      "text/plain": [
       "74455.81"
      ]
     },
     "execution_count": 14,
     "metadata": {},
     "output_type": "execute_result"
    }
   ],
   "source": [
    "wage_data=visa_df['prevailing_wage']\n",
    "round(np.mean(wage_data),2)"
   ]
  },
  {
   "cell_type": "code",
   "execution_count": 16,
   "id": "ed5be0de-ef3e-40e1-aa75-2fa4b657afb2",
   "metadata": {},
   "outputs": [
    {
     "data": {
      "text/plain": [
       "70308.20999999999"
      ]
     },
     "execution_count": 16,
     "metadata": {},
     "output_type": "execute_result"
    }
   ],
   "source": [
    "np.median(visa_df['prevailing_wage'])"
   ]
  },
  {
   "cell_type": "code",
   "execution_count": 40,
   "id": "06449567-b5bd-440f-90db-599447b3e21e",
   "metadata": {},
   "outputs": [
    {
     "data": {
      "text/plain": [
       "70308.21"
      ]
     },
     "execution_count": 40,
     "metadata": {},
     "output_type": "execute_result"
    }
   ],
   "source": [
    "round(np.median(visa_df['prevailing_wage']),2)"
   ]
  },
  {
   "cell_type": "code",
   "execution_count": 18,
   "id": "fd858d51-5330-4786-8233-ff5b2c551e43",
   "metadata": {},
   "outputs": [
    {
     "data": {
      "text/plain": [
       "0        100.66\n",
       "1        102.70\n",
       "2        105.96\n",
       "3        108.12\n",
       "4        109.06\n",
       "5        110.51\n",
       "6        111.11\n",
       "7        113.60\n",
       "8        118.43\n",
       "9        122.65\n",
       "10       127.89\n",
       "11       134.15\n",
       "12       138.76\n",
       "13      6036.67\n",
       "14     21894.51\n",
       "15     24258.73\n",
       "16     58770.05\n",
       "17     60948.15\n",
       "18     64357.58\n",
       "19     74645.92\n",
       "20     82560.28\n",
       "21     87751.88\n",
       "22     88664.77\n",
       "23     93356.03\n",
       "24    126813.75\n",
       "25    149907.39\n",
       "Name: prevailing_wage, dtype: float64"
      ]
     },
     "execution_count": 18,
     "metadata": {},
     "output_type": "execute_result"
    }
   ],
   "source": [
    "visa_df['prevailing_wage'].mode()"
   ]
  },
  {
   "cell_type": "code",
   "execution_count": 20,
   "id": "1b4cf1eb-fdda-4d1c-ad31-5d2ec9fcc992",
   "metadata": {},
   "outputs": [
    {
     "name": "stdout",
     "output_type": "stream",
     "text": [
      "the total count is: 25480\n",
      "the min count is: 2.14\n",
      "the max count is: 319210.27\n",
      "the mean count is: 74455.81\n",
      "the median count is: 70308.21\n"
     ]
    }
   ],
   "source": [
    "wage_data=visa_df['prevailing_wage']\n",
    "wage_count=len(wage_data)\n",
    "wage_min=round(wage_data.min(),2)\n",
    "wage_max=round(wage_data.max(),2)\n",
    "wage_mean=round(wage_data.mean(),2)\n",
    "wage_median=round(wage_data.median(),2)\n",
    "\n",
    "print(f'the total count is: {wage_count}')\n",
    "print(f'the min count is: {wage_min}')\n",
    "print(f'the max count is: {wage_max}')\n",
    "print(f'the mean count is: {wage_mean}')\n",
    "print(f'the median count is: {wage_median}')"
   ]
  },
  {
   "cell_type": "code",
   "execution_count": 22,
   "id": "faf368c5-fb0d-496d-807c-95d1aea0bf41",
   "metadata": {},
   "outputs": [
    {
     "data": {
      "text/html": [
       "<div>\n",
       "<style scoped>\n",
       "    .dataframe tbody tr th:only-of-type {\n",
       "        vertical-align: middle;\n",
       "    }\n",
       "\n",
       "    .dataframe tbody tr th {\n",
       "        vertical-align: top;\n",
       "    }\n",
       "\n",
       "    .dataframe thead th {\n",
       "        text-align: right;\n",
       "    }\n",
       "</style>\n",
       "<table border=\"1\" class=\"dataframe\">\n",
       "  <thead>\n",
       "    <tr style=\"text-align: right;\">\n",
       "      <th></th>\n",
       "      <th>prevailing_wage</th>\n",
       "    </tr>\n",
       "  </thead>\n",
       "  <tbody>\n",
       "    <tr>\n",
       "      <th>count</th>\n",
       "      <td>25480.00</td>\n",
       "    </tr>\n",
       "    <tr>\n",
       "      <th>min</th>\n",
       "      <td>2.14</td>\n",
       "    </tr>\n",
       "    <tr>\n",
       "      <th>max</th>\n",
       "      <td>319210.27</td>\n",
       "    </tr>\n",
       "    <tr>\n",
       "      <th>mean</th>\n",
       "      <td>74455.81</td>\n",
       "    </tr>\n",
       "    <tr>\n",
       "      <th>median</th>\n",
       "      <td>70308.21</td>\n",
       "    </tr>\n",
       "  </tbody>\n",
       "</table>\n",
       "</div>"
      ],
      "text/plain": [
       "        prevailing_wage\n",
       "count          25480.00\n",
       "min                2.14\n",
       "max           319210.27\n",
       "mean           74455.81\n",
       "median         70308.21"
      ]
     },
     "execution_count": 22,
     "metadata": {},
     "output_type": "execute_result"
    }
   ],
   "source": [
    "wage_data=visa_df['prevailing_wage']\n",
    "wage_count=len(wage_data)\n",
    "wage_min=round(wage_data.min(),2)\n",
    "wage_max=round(wage_data.max(),2)\n",
    "wage_mean=round(wage_data.mean(),2)\n",
    "wage_median=round(wage_data.median(),2)\n",
    "\n",
    "idx=['count','min','max','mean','median']\n",
    "data=[wage_count,wage_min,wage_max,wage_mean,wage_median]\n",
    "vdf=pd.DataFrame(data,index=idx,columns=['prevailing_wage'])\n",
    "vdf"
   ]
  },
  {
   "cell_type": "markdown",
   "id": "d9cce181-bfe1-498f-9a30-3f06325a586f",
   "metadata": {},
   "source": [
    "**percentile_quantile**\n",
    "- we want to find 25% - 50% - 75% or any by using **percentile-quantile**\n",
    "- these methods available in numpy package\n",
    "- **percentile**\n",
    "- np.percentile()"
   ]
  },
  {
   "cell_type": "code",
   "execution_count": 26,
   "id": "db530fea-ff71-4b4b-a131-b83ff213e95e",
   "metadata": {},
   "outputs": [
    {
     "data": {
      "text/plain": [
       "34015.479999999996"
      ]
     },
     "execution_count": 26,
     "metadata": {},
     "output_type": "execute_result"
    }
   ],
   "source": [
    "wage_data=visa_df['prevailing_wage']\n",
    "np.percentile(wage_data,25)"
   ]
  },
  {
   "cell_type": "code",
   "execution_count": 28,
   "id": "7cf8611a-fcb4-4521-974d-bc34bad66af3",
   "metadata": {},
   "outputs": [
    {
     "data": {
      "text/plain": [
       "34015.479999999996"
      ]
     },
     "execution_count": 28,
     "metadata": {},
     "output_type": "execute_result"
    }
   ],
   "source": [
    "wage_data=visa_df['prevailing_wage']\n",
    "np.quantile(wage_data,0.25)"
   ]
  },
  {
   "cell_type": "markdown",
   "id": "06da1f79-d3d7-423a-a434-8374bf084232",
   "metadata": {},
   "source": [
    "- 25% value= 34015.47999999996\n",
    "\n",
    "- 25percentage of data has less than 34015.47\n",
    "- total data\n",
    "- 25%(25400) members has wages less than 34015\n",
    "- 6370 members has wages less than 34015"
   ]
  },
  {
   "cell_type": "code",
   "execution_count": 30,
   "id": "11d3134c-064a-4a22-90b7-85bd2a8cea00",
   "metadata": {},
   "outputs": [
    {
     "data": {
      "text/plain": [
       "6370.0"
      ]
     },
     "execution_count": 30,
     "metadata": {},
     "output_type": "execute_result"
    }
   ],
   "source": [
    "25*25480/100"
   ]
  },
  {
   "cell_type": "markdown",
   "id": "f43998e1-6091-4c04-b7ff-238f281fd227",
   "metadata": {},
   "source": [
    "- now we need to prove this using python code\n",
    "- we want to prove that there are 6370 members has salary less than 345015.47\n",
    "- do this"
   ]
  },
  {
   "cell_type": "code",
   "execution_count": 32,
   "id": "41ffd008-84cf-4f27-92f4-625b4c290f6a",
   "metadata": {},
   "outputs": [
    {
     "data": {
      "text/plain": [
       "25480.0"
      ]
     },
     "execution_count": 32,
     "metadata": {},
     "output_type": "execute_result"
    }
   ],
   "source": [
    "np.percentile(25480,25)"
   ]
  },
  {
   "cell_type": "code",
   "execution_count": 34,
   "id": "5943c4b5-8357-4e58-9856-b74b6f656883",
   "metadata": {},
   "outputs": [
    {
     "ename": "NameError",
     "evalue": "name 'p_25' is not defined",
     "output_type": "error",
     "traceback": [
      "\u001b[1;31m---------------------------------------------------------------------------\u001b[0m",
      "\u001b[1;31mNameError\u001b[0m                                 Traceback (most recent call last)",
      "Cell \u001b[1;32mIn[34], line 1\u001b[0m\n\u001b[1;32m----> 1\u001b[0m visa_df[wage_data\u001b[38;5;241m<\u001b[39mp_25]\n",
      "\u001b[1;31mNameError\u001b[0m: name 'p_25' is not defined"
     ]
    }
   ],
   "source": []
  },
  {
   "cell_type": "code",
   "execution_count": 68,
   "id": "9587d759-8172-480d-bf49-bb76e66e096e",
   "metadata": {},
   "outputs": [
    {
     "data": {
      "text/plain": [
       "6370"
      ]
     },
     "execution_count": 68,
     "metadata": {},
     "output_type": "execute_result"
    }
   ],
   "source": [
    "wage_data=visa_df['prevailing_wage']\n",
    "wage_25p=np.percentile(wage_data,25)\n",
    "con=wage_data<wage_25p\n",
    "len(wage_data[con])\n"
   ]
  },
  {
   "cell_type": "code",
   "execution_count": 70,
   "id": "4aa711ef-ca32-49da-acfd-571637f48143",
   "metadata": {},
   "outputs": [
    {
     "data": {
      "text/plain": [
       "12740"
      ]
     },
     "execution_count": 70,
     "metadata": {},
     "output_type": "execute_result"
    }
   ],
   "source": [
    "wage_data=visa_df['prevailing_wage']\n",
    "wage_50p=np.percentile(wage_data,50)\n",
    "con=wage_data<wage_50p\n",
    "len(wage_data[con])\n"
   ]
  },
  {
   "cell_type": "code",
   "execution_count": 72,
   "id": "de5fea19-cad3-4af5-8943-374aa1ef77d4",
   "metadata": {},
   "outputs": [
    {
     "data": {
      "text/plain": [
       "19110"
      ]
     },
     "execution_count": 72,
     "metadata": {},
     "output_type": "execute_result"
    }
   ],
   "source": [
    "wage_data=visa_df['prevailing_wage']\n",
    "wage_75p=np.percentile(wage_data,75)\n",
    "con=wage_data<wage_75p\n",
    "len(wage_data[con])\n"
   ]
  },
  {
   "cell_type": "code",
   "execution_count": 17,
   "id": "2d208b39-2580-4080-a715-f8aae9aeb9df",
   "metadata": {},
   "outputs": [
    {
     "data": {
      "text/html": [
       "<div>\n",
       "<style scoped>\n",
       "    .dataframe tbody tr th:only-of-type {\n",
       "        vertical-align: middle;\n",
       "    }\n",
       "\n",
       "    .dataframe tbody tr th {\n",
       "        vertical-align: top;\n",
       "    }\n",
       "\n",
       "    .dataframe thead th {\n",
       "        text-align: right;\n",
       "    }\n",
       "</style>\n",
       "<table border=\"1\" class=\"dataframe\">\n",
       "  <thead>\n",
       "    <tr style=\"text-align: right;\">\n",
       "      <th></th>\n",
       "      <th>prevailing_wage</th>\n",
       "    </tr>\n",
       "  </thead>\n",
       "  <tbody>\n",
       "    <tr>\n",
       "      <th>count</th>\n",
       "      <td>25480.0000</td>\n",
       "    </tr>\n",
       "    <tr>\n",
       "      <th>min</th>\n",
       "      <td>2.1400</td>\n",
       "    </tr>\n",
       "    <tr>\n",
       "      <th>max</th>\n",
       "      <td>319210.2700</td>\n",
       "    </tr>\n",
       "    <tr>\n",
       "      <th>mean</th>\n",
       "      <td>74455.8100</td>\n",
       "    </tr>\n",
       "    <tr>\n",
       "      <th>median</th>\n",
       "      <td>70308.2100</td>\n",
       "    </tr>\n",
       "    <tr>\n",
       "      <th>25%</th>\n",
       "      <td>34015.4800</td>\n",
       "    </tr>\n",
       "    <tr>\n",
       "      <th>50%</th>\n",
       "      <td>70308.2100</td>\n",
       "    </tr>\n",
       "    <tr>\n",
       "      <th>75%</th>\n",
       "      <td>107735.5125</td>\n",
       "    </tr>\n",
       "  </tbody>\n",
       "</table>\n",
       "</div>"
      ],
      "text/plain": [
       "        prevailing_wage\n",
       "count        25480.0000\n",
       "min              2.1400\n",
       "max         319210.2700\n",
       "mean         74455.8100\n",
       "median       70308.2100\n",
       "25%          34015.4800\n",
       "50%          70308.2100\n",
       "75%         107735.5125"
      ]
     },
     "execution_count": 17,
     "metadata": {},
     "output_type": "execute_result"
    }
   ],
   "source": [
    "wage_data=visa_df['prevailing_wage']\n",
    "wage_count=len(wage_data)\n",
    "wage_min=round(wage_data.min(),2)\n",
    "wage_max=round(wage_data.max(),2)\n",
    "wage_mean=round(wage_data.mean(),2)\n",
    "wage_median=round(wage_data.median(),2)\n",
    "\n",
    "\n",
    "wage_25p=np.percentile(wage_data,25)\n",
    "wage_50p=np.percentile(wage_data,50)\n",
    "wage_75p=np.percentile(wage_data,75)\n",
    "\n",
    "\n",
    "idx=['count','min','max','mean','median','25%','50%','75%']\n",
    "data=[wage_count,wage_min,wage_max,wage_mean,wage_median,wage_25p,wage_50p,wage_75p]\n",
    "vdf=pd.DataFrame(data,index=idx,columns=['prevailing_wage'])\n",
    "vdf"
   ]
  },
  {
   "cell_type": "code",
   "execution_count": 15,
   "id": "827f4784-970d-4e84-aafa-0fbf7b3c9478",
   "metadata": {},
   "outputs": [
    {
     "data": {
      "text/html": [
       "<div>\n",
       "<style scoped>\n",
       "    .dataframe tbody tr th:only-of-type {\n",
       "        vertical-align: middle;\n",
       "    }\n",
       "\n",
       "    .dataframe tbody tr th {\n",
       "        vertical-align: top;\n",
       "    }\n",
       "\n",
       "    .dataframe thead th {\n",
       "        text-align: right;\n",
       "    }\n",
       "</style>\n",
       "<table border=\"1\" class=\"dataframe\">\n",
       "  <thead>\n",
       "    <tr style=\"text-align: right;\">\n",
       "      <th></th>\n",
       "      <th>no_of_employees</th>\n",
       "      <th>yr_of_estab</th>\n",
       "      <th>prevailing_wage</th>\n",
       "    </tr>\n",
       "  </thead>\n",
       "  <tbody>\n",
       "    <tr>\n",
       "      <th>count</th>\n",
       "      <td>25480.00</td>\n",
       "      <td>25480.00</td>\n",
       "      <td>25480.0000</td>\n",
       "    </tr>\n",
       "    <tr>\n",
       "      <th>min</th>\n",
       "      <td>-26.00</td>\n",
       "      <td>1800.00</td>\n",
       "      <td>2.1400</td>\n",
       "    </tr>\n",
       "    <tr>\n",
       "      <th>max</th>\n",
       "      <td>602069.00</td>\n",
       "      <td>2016.00</td>\n",
       "      <td>319210.2700</td>\n",
       "    </tr>\n",
       "    <tr>\n",
       "      <th>mean</th>\n",
       "      <td>5667.04</td>\n",
       "      <td>1979.41</td>\n",
       "      <td>74455.8100</td>\n",
       "    </tr>\n",
       "    <tr>\n",
       "      <th>median</th>\n",
       "      <td>2109.00</td>\n",
       "      <td>1997.00</td>\n",
       "      <td>70308.2100</td>\n",
       "    </tr>\n",
       "    <tr>\n",
       "      <th>25%</th>\n",
       "      <td>1022.00</td>\n",
       "      <td>1976.00</td>\n",
       "      <td>34015.4800</td>\n",
       "    </tr>\n",
       "    <tr>\n",
       "      <th>50%</th>\n",
       "      <td>2109.00</td>\n",
       "      <td>1997.00</td>\n",
       "      <td>70308.2100</td>\n",
       "    </tr>\n",
       "    <tr>\n",
       "      <th>75%</th>\n",
       "      <td>3504.00</td>\n",
       "      <td>2005.00</td>\n",
       "      <td>107735.5125</td>\n",
       "    </tr>\n",
       "  </tbody>\n",
       "</table>\n",
       "</div>"
      ],
      "text/plain": [
       "        no_of_employees  yr_of_estab  prevailing_wage\n",
       "count          25480.00     25480.00       25480.0000\n",
       "min              -26.00      1800.00           2.1400\n",
       "max           602069.00      2016.00      319210.2700\n",
       "mean            5667.04      1979.41       74455.8100\n",
       "median          2109.00      1997.00       70308.2100\n",
       "25%             1022.00      1976.00       34015.4800\n",
       "50%             2109.00      1997.00       70308.2100\n",
       "75%             3504.00      2005.00      107735.5125"
      ]
     },
     "execution_count": 15,
     "metadata": {},
     "output_type": "execute_result"
    }
   ],
   "source": [
    "data=[]\n",
    "for i in num:\n",
    "    col_data=visa_df[i]\n",
    "    col_count=len(col_data)\n",
    "    col_min=round(col_data.min(),2)\n",
    "    col_max=round(col_data.max(),2)\n",
    "    col_mean=round(col_data.mean(),2)\n",
    "    col_median=round(col_data.median(),2)\n",
    "    col_25p=np.percentile(col_data,25)\n",
    "    col_50p=np.percentile(col_data,50)\n",
    "    col_75p=np.percentile(col_data,75)\n",
    "    idx=['count','min','max','mean','median','25%','50%','75%']\n",
    "    data.append([col_count,col_min,col_max,col_mean,col_median,col_25p,col_50p,col_75p])\n",
    "pd.DataFrame(data,index=num,columns=idx).T"
   ]
  },
  {
   "cell_type": "code",
   "execution_count": 9,
   "id": "b4a766e6-de3b-46cf-bef8-7f80e7498808",
   "metadata": {},
   "outputs": [
    {
     "data": {
      "text/html": [
       "<div>\n",
       "<style scoped>\n",
       "    .dataframe tbody tr th:only-of-type {\n",
       "        vertical-align: middle;\n",
       "    }\n",
       "\n",
       "    .dataframe tbody tr th {\n",
       "        vertical-align: top;\n",
       "    }\n",
       "\n",
       "    .dataframe thead th {\n",
       "        text-align: right;\n",
       "    }\n",
       "</style>\n",
       "<table border=\"1\" class=\"dataframe\">\n",
       "  <thead>\n",
       "    <tr style=\"text-align: right;\">\n",
       "      <th></th>\n",
       "      <th>no_of_employees</th>\n",
       "      <th>yr_of_estab</th>\n",
       "      <th>prevailing_wage</th>\n",
       "    </tr>\n",
       "  </thead>\n",
       "  <tbody>\n",
       "    <tr>\n",
       "      <th>count</th>\n",
       "      <td>25480.000000</td>\n",
       "      <td>25480.000000</td>\n",
       "      <td>25480.000000</td>\n",
       "    </tr>\n",
       "    <tr>\n",
       "      <th>mean</th>\n",
       "      <td>5667.043210</td>\n",
       "      <td>1979.409929</td>\n",
       "      <td>74455.814592</td>\n",
       "    </tr>\n",
       "    <tr>\n",
       "      <th>std</th>\n",
       "      <td>22877.928848</td>\n",
       "      <td>42.366929</td>\n",
       "      <td>52815.942327</td>\n",
       "    </tr>\n",
       "    <tr>\n",
       "      <th>min</th>\n",
       "      <td>-26.000000</td>\n",
       "      <td>1800.000000</td>\n",
       "      <td>2.136700</td>\n",
       "    </tr>\n",
       "    <tr>\n",
       "      <th>25%</th>\n",
       "      <td>1022.000000</td>\n",
       "      <td>1976.000000</td>\n",
       "      <td>34015.480000</td>\n",
       "    </tr>\n",
       "    <tr>\n",
       "      <th>50%</th>\n",
       "      <td>2109.000000</td>\n",
       "      <td>1997.000000</td>\n",
       "      <td>70308.210000</td>\n",
       "    </tr>\n",
       "    <tr>\n",
       "      <th>75%</th>\n",
       "      <td>3504.000000</td>\n",
       "      <td>2005.000000</td>\n",
       "      <td>107735.512500</td>\n",
       "    </tr>\n",
       "    <tr>\n",
       "      <th>max</th>\n",
       "      <td>602069.000000</td>\n",
       "      <td>2016.000000</td>\n",
       "      <td>319210.270000</td>\n",
       "    </tr>\n",
       "  </tbody>\n",
       "</table>\n",
       "</div>"
      ],
      "text/plain": [
       "       no_of_employees   yr_of_estab  prevailing_wage\n",
       "count     25480.000000  25480.000000     25480.000000\n",
       "mean       5667.043210   1979.409929     74455.814592\n",
       "std       22877.928848     42.366929     52815.942327\n",
       "min         -26.000000   1800.000000         2.136700\n",
       "25%        1022.000000   1976.000000     34015.480000\n",
       "50%        2109.000000   1997.000000     70308.210000\n",
       "75%        3504.000000   2005.000000    107735.512500\n",
       "max      602069.000000   2016.000000    319210.270000"
      ]
     },
     "execution_count": 9,
     "metadata": {},
     "output_type": "execute_result"
    }
   ],
   "source": [
    "visa_df.describe()"
   ]
  },
  {
   "cell_type": "markdown",
   "id": "289f75df-03bd-492f-9bdf-66c379b878e7",
   "metadata": {},
   "source": [
    "**emperical rule**"
   ]
  },
  {
   "cell_type": "code",
   "execution_count": null,
   "id": "8236abfa-c963-4305-a592-d14b0a7bd494",
   "metadata": {},
   "outputs": [],
   "source": [
    "#mu-1*sigma(lower bound) to mu+1*sigma(ub) =68% of total data\n",
    "#mu-2*sigma to mu+2*sigma =95% of total data\n",
    "#mu-3*sigma to mu+3*sigma =99.7% of total data"
   ]
  },
  {
   "cell_type": "markdown",
   "id": "d44b9e30-538f-4e60-bcd1-614106cf4647",
   "metadata": {},
   "source": [
    "**lb**"
   ]
  },
  {
   "cell_type": "code",
   "execution_count": 33,
   "id": "ce4a0481-da93-4f6b-9ed1-9b75edccb4d3",
   "metadata": {},
   "outputs": [
    {
     "data": {
      "text/plain": [
       "21639.872265218262"
      ]
     },
     "execution_count": 33,
     "metadata": {},
     "output_type": "execute_result"
    }
   ],
   "source": [
    "mean=visa_df['prevailing_wage'].mean()\n",
    "mean=visa_df['prevailing_wage'].mean()\n",
    "std=visa_df['prevailing_wage'].std()\n",
    "lb=mean-1*std\n",
    "lb"
   ]
  },
  {
   "cell_type": "code",
   "execution_count": 38,
   "id": "7b063e0f-b9b4-4705-b42b-0b60ab852c35",
   "metadata": {},
   "outputs": [
    {
     "data": {
      "text/plain": [
       "(17171, 17326.4)"
      ]
     },
     "execution_count": 38,
     "metadata": {},
     "output_type": "execute_result"
    }
   ],
   "source": [
    "mean=visa_df['prevailing_wage'].mean()\n",
    "std=visa_df['prevailing_wage'].std()\n",
    "lb=mean-1*std\n",
    "mean=visa_df['prevailing_wage'].mean()\n",
    "std=visa_df['prevailing_wage'].std()\n",
    "ub=mean+1*std\n",
    "lb,ub\n",
    "con1=visa_df['prevailing_wage']>lb\n",
    "con2=visa_df['prevailing_wage']<ub\n",
    "con3=con1&con2\n",
    "len(visa_df[con3]), 68*25480/100"
   ]
  },
  {
   "cell_type": "code",
   "execution_count": 40,
   "id": "286b9d7a-1bd8-41b9-aefa-60257d800f5a",
   "metadata": {},
   "outputs": [
    {
     "data": {
      "text/plain": [
       "(24582, 24206.0)"
      ]
     },
     "execution_count": 40,
     "metadata": {},
     "output_type": "execute_result"
    }
   ],
   "source": [
    "mean=visa_df['prevailing_wage'].mean()\n",
    "std=visa_df['prevailing_wage'].std()\n",
    "lb=mean-2*std\n",
    "mean=visa_df['prevailing_wage'].mean()\n",
    "std=visa_df['prevailing_wage'].std()\n",
    "ub=mean+2*std\n",
    "lb,ub\n",
    "con1=visa_df['prevailing_wage']>lb\n",
    "con2=visa_df['prevailing_wage']<ub\n",
    "con3=con1&con2\n",
    "len(visa_df[con3]), 95*25480/100"
   ]
  },
  {
   "cell_type": "code",
   "execution_count": 42,
   "id": "c17c815e-8723-4b0b-93b4-39060e326a97",
   "metadata": {},
   "outputs": [
    {
     "data": {
      "text/plain": [
       "(25186, 25403.56)"
      ]
     },
     "execution_count": 42,
     "metadata": {},
     "output_type": "execute_result"
    }
   ],
   "source": [
    "mean=visa_df['prevailing_wage'].mean()\n",
    "std=visa_df['prevailing_wage'].std()\n",
    "lb=mean-3*std\n",
    "######################\n",
    "mean=visa_df['prevailing_wage'].mean()\n",
    "std=visa_df['prevailing_wage'].std()\n",
    "ub=mean+3*std\n",
    "#####################\n",
    "lb,ub\n",
    "con1=visa_df['prevailing_wage']>=lb\n",
    "con2=visa_df['prevailing_wage']<=ub\n",
    "##############################\n",
    "con3=con1&con2\n",
    "len(visa_df[con3]),99.7*25480/100"
   ]
  },
  {
   "cell_type": "markdown",
   "id": "8b9c412c-1498-4d30-8168-9794eadc61dd",
   "metadata": {},
   "source": [
    "- from above we understand the data does not follows normal distribution\n",
    "- will get more clarity by ploting histogram"
   ]
  },
  {
   "cell_type": "markdown",
   "id": "d4fc9331-8fb5-42e6-b729-437632a38ec2",
   "metadata": {},
   "source": [
    "***histogram**\n",
    "- class interval vs interval frequency\n",
    "- it is available in matploitlib pacakge\n",
    "- plt.hist"
   ]
  },
  {
   "cell_type": "code",
   "execution_count": 52,
   "id": "9db9e801-37bc-4a47-97dd-6d39d1a153bf",
   "metadata": {},
   "outputs": [
    {
     "data": {
      "text/plain": [
       "(array([6038., 5504., 5681., 4551., 2334.,  624.,  373.,  240.,  114.,\n",
       "          21.]),\n",
       " array([2.13670000e+00, 3.19229500e+04, 6.38437634e+04, 9.57645767e+04,\n",
       "        1.27685390e+05, 1.59606203e+05, 1.91527017e+05, 2.23447830e+05,\n",
       "        2.55368643e+05, 2.87289457e+05, 3.19210270e+05]),\n",
       " <BarContainer object of 10 artists>)"
      ]
     },
     "execution_count": 52,
     "metadata": {},
     "output_type": "execute_result"
    },
    {
     "data": {
      "image/png": "[encoded data removed]",
      "text/plain": [
       "<Figure size 640x480 with 1 Axes>"
      ]
     },
     "metadata": {},
     "output_type": "display_data"
    }
   ],
   "source": [
    "plt.hist(visa_df['prevailing_wage'])"
   ]
  },
  {
   "cell_type": "code",
   "execution_count": 54,
   "id": "9ce99b86-5474-4139-8850-0a652e8b0f1a",
   "metadata": {},
   "outputs": [
    {
     "data": {
      "text/plain": [
       "(array([3863., 2175., 2676., 2828., 2889., 2792., 2485., 2066., 1452.,\n",
       "         882.,  408.,  216.,  206.,  167.,  129.,  111.,   66.,   48.,\n",
       "          10.,   11.]),\n",
       " array([2.13670000e+00, 1.59625434e+04, 3.19229500e+04, 4.78833567e+04,\n",
       "        6.38437634e+04, 7.98041700e+04, 9.57645767e+04, 1.11724983e+05,\n",
       "        1.27685390e+05, 1.43645797e+05, 1.59606203e+05, 1.75566610e+05,\n",
       "        1.91527017e+05, 2.07487423e+05, 2.23447830e+05, 2.39408237e+05,\n",
       "        2.55368643e+05, 2.71329050e+05, 2.87289457e+05, 3.03249863e+05,\n",
       "        3.19210270e+05]),\n",
       " <BarContainer object of 20 artists>)"
      ]
     },
     "execution_count": 54,
     "metadata": {},
     "output_type": "execute_result"
    },
    {
     "data": {
      "image/png": "[encoded data removed]",
      "text/plain": [
       "<Figure size 640x480 with 1 Axes>"
      ]
     },
     "metadata": {},
     "output_type": "display_data"
    }
   ],
   "source": [
    "plt.hist(visa_df['prevailing_wage'],bins=20)"
   ]
  },
  {
   "cell_type": "code",
   "execution_count": 56,
   "id": "61c085be-a98e-42d2-8da9-84f93777efb1",
   "metadata": {},
   "outputs": [
    {
     "data": {
      "text/plain": [
       "(array([2.475e+03, 3.380e+02, 3.330e+02, 3.750e+02, 3.420e+02, 3.830e+02,\n",
       "        4.220e+02, 4.100e+02, 4.710e+02, 4.890e+02, 5.080e+02, 4.850e+02,\n",
       "        5.140e+02, 5.950e+02, 5.740e+02, 5.580e+02, 5.570e+02, 5.510e+02,\n",
       "        5.790e+02, 5.830e+02, 5.790e+02, 6.050e+02, 5.780e+02, 5.760e+02,\n",
       "        5.510e+02, 6.080e+02, 5.510e+02, 5.660e+02, 5.380e+02, 5.290e+02,\n",
       "        5.030e+02, 5.440e+02, 4.850e+02, 4.680e+02, 4.850e+02, 4.700e+02,\n",
       "        4.410e+02, 3.750e+02, 4.070e+02, 3.730e+02, 3.750e+02, 2.980e+02,\n",
       "        2.820e+02, 2.570e+02, 2.400e+02, 2.290e+02, 1.910e+02, 1.730e+02,\n",
       "        1.540e+02, 1.350e+02, 9.900e+01, 1.120e+02, 8.000e+01, 5.900e+01,\n",
       "        5.800e+01, 4.900e+01, 4.200e+01, 3.900e+01, 4.800e+01, 3.800e+01,\n",
       "        3.900e+01, 4.000e+01, 4.500e+01, 4.200e+01, 4.000e+01, 3.800e+01,\n",
       "        3.500e+01, 3.400e+01, 2.400e+01, 3.600e+01, 2.100e+01, 2.800e+01,\n",
       "        3.400e+01, 2.300e+01, 2.300e+01, 2.900e+01, 1.600e+01, 2.900e+01,\n",
       "        1.900e+01, 1.800e+01, 1.600e+01, 1.200e+01, 1.400e+01, 1.300e+01,\n",
       "        1.100e+01, 1.500e+01, 7.000e+00, 1.300e+01, 5.000e+00, 8.000e+00,\n",
       "        3.000e+00, 1.000e+00, 3.000e+00, 2.000e+00, 1.000e+00, 3.000e+00,\n",
       "        3.000e+00, 1.000e+00, 2.000e+00, 2.000e+00]),\n",
       " array([2.13670000e+00, 3.19421803e+03, 6.38629937e+03, 9.57838070e+03,\n",
       "        1.27704620e+04, 1.59625434e+04, 1.91546247e+04, 2.23467060e+04,\n",
       "        2.55387874e+04, 2.87308687e+04, 3.19229500e+04, 3.51150314e+04,\n",
       "        3.83071127e+04, 4.14991940e+04, 4.46912754e+04, 4.78833567e+04,\n",
       "        5.10754380e+04, 5.42675194e+04, 5.74596007e+04, 6.06516820e+04,\n",
       "        6.38437634e+04, 6.70358447e+04, 7.02279260e+04, 7.34200074e+04,\n",
       "        7.66120887e+04, 7.98041700e+04, 8.29962514e+04, 8.61883327e+04,\n",
       "        8.93804140e+04, 9.25724954e+04, 9.57645767e+04, 9.89566580e+04,\n",
       "        1.02148739e+05, 1.05340821e+05, 1.08532902e+05, 1.11724983e+05,\n",
       "        1.14917065e+05, 1.18109146e+05, 1.21301227e+05, 1.24493309e+05,\n",
       "        1.27685390e+05, 1.30877471e+05, 1.34069553e+05, 1.37261634e+05,\n",
       "        1.40453715e+05, 1.43645797e+05, 1.46837878e+05, 1.50029959e+05,\n",
       "        1.53222041e+05, 1.56414122e+05, 1.59606203e+05, 1.62798285e+05,\n",
       "        1.65990366e+05, 1.69182447e+05, 1.72374529e+05, 1.75566610e+05,\n",
       "        1.78758691e+05, 1.81950773e+05, 1.85142854e+05, 1.88334935e+05,\n",
       "        1.91527017e+05, 1.94719098e+05, 1.97911179e+05, 2.01103261e+05,\n",
       "        2.04295342e+05, 2.07487423e+05, 2.10679505e+05, 2.13871586e+05,\n",
       "        2.17063667e+05, 2.20255749e+05, 2.23447830e+05, 2.26639911e+05,\n",
       "        2.29831993e+05, 2.33024074e+05, 2.36216155e+05, 2.39408237e+05,\n",
       "        2.42600318e+05, 2.45792399e+05, 2.48984481e+05, 2.52176562e+05,\n",
       "        2.55368643e+05, 2.58560725e+05, 2.61752806e+05, 2.64944887e+05,\n",
       "        2.68136969e+05, 2.71329050e+05, 2.74521131e+05, 2.77713213e+05,\n",
       "        2.80905294e+05, 2.84097375e+05, 2.87289457e+05, 2.90481538e+05,\n",
       "        2.93673619e+05, 2.96865701e+05, 3.00057782e+05, 3.03249863e+05,\n",
       "        3.06441945e+05, 3.09634026e+05, 3.12826107e+05, 3.16018189e+05,\n",
       "        3.19210270e+05]),\n",
       " <BarContainer object of 100 artists>)"
      ]
     },
     "execution_count": 56,
     "metadata": {},
     "output_type": "execute_result"
    },
    {
     "data": {
      "image/png": "[encoded data removed]",
      "text/plain": [
       "<Figure size 640x480 with 1 Axes>"
      ]
     },
     "metadata": {},
     "output_type": "display_data"
    }
   ],
   "source": [
    "plt.hist(visa_df['prevailing_wage'],bins=100)"
   ]
  },
  {
   "cell_type": "code",
   "execution_count": 60,
   "id": "386735ea-fe91-44fb-906f-50c6b42f2221",
   "metadata": {},
   "outputs": [
    {
     "data": {
      "image/png": "[encoded data removed]",
      "text/plain": [
       "<Figure size 640x480 with 1 Axes>"
      ]
     },
     "metadata": {},
     "output_type": "display_data"
    }
   ],
   "source": [
    "count,interval,n=plt.hist(visa_df['prevailing_wage'],bins=40)"
   ]
  },
  {
   "cell_type": "markdown",
   "id": "291a9851-fe7e-49e8-8500-15253ecff564",
   "metadata": {},
   "source": [
    "**observation**\n",
    "- histogram will give 3 outputs in a tuple\n",
    "- count arry: having each interval count\n",
    "- interval arry: having intervals \n",
    "- n.numbers of intervals"
   ]
  },
  {
   "cell_type": "code",
   "execution_count": 63,
   "id": "1585b308-275e-42c8-9c92-41695c693ef5",
   "metadata": {},
   "outputs": [
    {
     "data": {
      "text/plain": [
       "array([2992.,  871., 1005., 1170., 1242., 1434., 1385., 1443., 1444.,\n",
       "       1445., 1457., 1335., 1268., 1217., 1088.,  978.,  807.,  645.,\n",
       "        509.,  373.,  264.,  144.,  105.,  111.,  107.,   99.,   88.,\n",
       "         79.,   65.,   64.,   58.,   53.,   33.,   33.,   29.,   19.,\n",
       "          7.,    3.,    6.,    5.])"
      ]
     },
     "execution_count": 63,
     "metadata": {},
     "output_type": "execute_result"
    }
   ],
   "source": [
    "count"
   ]
  },
  {
   "cell_type": "code",
   "execution_count": 65,
   "id": "95bdaa92-d732-4c32-8e39-16981df3efdf",
   "metadata": {},
   "outputs": [
    {
     "data": {
      "text/plain": [
       "array([2.13670000e+00, 7.98234003e+03, 1.59625434e+04, 2.39427467e+04,\n",
       "       3.19229500e+04, 3.99031534e+04, 4.78833567e+04, 5.58635600e+04,\n",
       "       6.38437634e+04, 7.18239667e+04, 7.98041700e+04, 8.77843734e+04,\n",
       "       9.57645767e+04, 1.03744780e+05, 1.11724983e+05, 1.19705187e+05,\n",
       "       1.27685390e+05, 1.35665593e+05, 1.43645797e+05, 1.51626000e+05,\n",
       "       1.59606203e+05, 1.67586407e+05, 1.75566610e+05, 1.83546813e+05,\n",
       "       1.91527017e+05, 1.99507220e+05, 2.07487423e+05, 2.15467627e+05,\n",
       "       2.23447830e+05, 2.31428033e+05, 2.39408237e+05, 2.47388440e+05,\n",
       "       2.55368643e+05, 2.63348847e+05, 2.71329050e+05, 2.79309253e+05,\n",
       "       2.87289457e+05, 2.95269660e+05, 3.03249863e+05, 3.11230067e+05,\n",
       "       3.19210270e+05])"
      ]
     },
     "execution_count": 65,
     "metadata": {},
     "output_type": "execute_result"
    }
   ],
   "source": [
    "interval"
   ]
  },
  {
   "cell_type": "code",
   "execution_count": 67,
   "id": "3cae8bac-38de-4a44-b8bb-dc7f25d8a60f",
   "metadata": {},
   "outputs": [
    {
     "name": "stdout",
     "output_type": "stream",
     "text": [
      "we have 2991 observation between 2.1367and7982.34003\n"
     ]
    }
   ],
   "source": [
    "lb=2.13670000e+00\n",
    "ub=7.98234003e+03\n",
    "con1=visa_df['prevailing_wage']>lb\n",
    "con2=visa_df['prevailing_wage']<ub\n",
    "con3=con1&con2\n",
    "c=len(visa_df[con3])\n",
    "print(f'we have {c} observation between {lb}and{ub}')"
   ]
  },
  {
   "cell_type": "markdown",
   "id": "3240f78d-9244-434f-8cb5-0fee844bc1cd",
   "metadata": {},
   "source": [
    "**boxplot**"
   ]
  },
  {
   "cell_type": "markdown",
   "id": "e9be0831-0ffe-419d-9216-294971bc75f8",
   "metadata": {},
   "source": [
    "- boxplot is used to find the outliers\n",
    "- q3+1.5*(q3-q1)\n",
    "- q1-1.5*(q3-q1)"
   ]
  },
  {
   "cell_type": "code",
   "execution_count": 48,
   "id": "561af525-e146-4d39-bbe4-7e57eaf95a2b",
   "metadata": {},
   "outputs": [
    {
     "data": {
      "text/plain": [
       "427"
      ]
     },
     "execution_count": 48,
     "metadata": {},
     "output_type": "execute_result"
    }
   ],
   "source": [
    "# step-1: calculate q1 and q3\n",
    "# step-2: calculate iqr=q3-q1\n",
    "# step-3: lb=q1-1.5*iqr\n",
    "# step-4: ub=q3+1.5*iqr\n",
    "# step-5: con1=data<lb\n",
    "# step-6: con2=data>ub\n",
    "# step-7: con3=con1<condition>con2\n",
    "# step-8:  data[con3]\n",
    "\n",
    "wage_data=visa_df['prevailing_wage']\n",
    "q1=round(np.quantile(wage_data,0.25),2)\n",
    "q3=round(np.quantile(wage_data,0.75),2)\n",
    "iqr=q3-q1\n",
    "lb=q1-1.5*iqr\n",
    "ub=q3+1.5*iqr\n",
    "con1=visa_df['prevailing_wage']<lb\n",
    "con2=visa_df['prevailing_wage']>ub\n",
    "con3=con1|con2\n",
    "count=len(visa_df[con3])\n",
    "count\n"
   ]
  },
  {
   "cell_type": "code",
   "execution_count": 50,
   "id": "ea94b8c9-fe61-4939-9663-201bcff951de",
   "metadata": {},
   "outputs": [
    {
     "data": {
      "text/html": [
       "<div>\n",
       "<style scoped>\n",
       "    .dataframe tbody tr th:only-of-type {\n",
       "        vertical-align: middle;\n",
       "    }\n",
       "\n",
       "    .dataframe tbody tr th {\n",
       "        vertical-align: top;\n",
       "    }\n",
       "\n",
       "    .dataframe thead th {\n",
       "        text-align: right;\n",
       "    }\n",
       "</style>\n",
       "<table border=\"1\" class=\"dataframe\">\n",
       "  <thead>\n",
       "    <tr style=\"text-align: right;\">\n",
       "      <th></th>\n",
       "      <th>case_id</th>\n",
       "      <th>continent</th>\n",
       "      <th>education_of_employee</th>\n",
       "      <th>has_job_experience</th>\n",
       "      <th>requires_job_training</th>\n",
       "      <th>no_of_employees</th>\n",
       "      <th>yr_of_estab</th>\n",
       "      <th>region_of_employment</th>\n",
       "      <th>prevailing_wage</th>\n",
       "      <th>unit_of_wage</th>\n",
       "      <th>full_time_position</th>\n",
       "      <th>case_status</th>\n",
       "    </tr>\n",
       "  </thead>\n",
       "  <tbody>\n",
       "    <tr>\n",
       "      <th>14</th>\n",
       "      <td>EZYV15</td>\n",
       "      <td>Asia</td>\n",
       "      <td>Master's</td>\n",
       "      <td>Y</td>\n",
       "      <td>Y</td>\n",
       "      <td>15756</td>\n",
       "      <td>2006</td>\n",
       "      <td>South</td>\n",
       "      <td>220081.73</td>\n",
       "      <td>Year</td>\n",
       "      <td>Y</td>\n",
       "      <td>Certified</td>\n",
       "    </tr>\n",
       "    <tr>\n",
       "      <th>34</th>\n",
       "      <td>EZYV35</td>\n",
       "      <td>Asia</td>\n",
       "      <td>Master's</td>\n",
       "      <td>N</td>\n",
       "      <td>N</td>\n",
       "      <td>1809</td>\n",
       "      <td>2010</td>\n",
       "      <td>South</td>\n",
       "      <td>225569.73</td>\n",
       "      <td>Year</td>\n",
       "      <td>N</td>\n",
       "      <td>Certified</td>\n",
       "    </tr>\n",
       "    <tr>\n",
       "      <th>130</th>\n",
       "      <td>EZYV131</td>\n",
       "      <td>South America</td>\n",
       "      <td>High School</td>\n",
       "      <td>N</td>\n",
       "      <td>N</td>\n",
       "      <td>2554</td>\n",
       "      <td>2005</td>\n",
       "      <td>Midwest</td>\n",
       "      <td>247393.01</td>\n",
       "      <td>Year</td>\n",
       "      <td>Y</td>\n",
       "      <td>Certified</td>\n",
       "    </tr>\n",
       "    <tr>\n",
       "      <th>216</th>\n",
       "      <td>EZYV217</td>\n",
       "      <td>Asia</td>\n",
       "      <td>Master's</td>\n",
       "      <td>Y</td>\n",
       "      <td>N</td>\n",
       "      <td>1515</td>\n",
       "      <td>2001</td>\n",
       "      <td>Midwest</td>\n",
       "      <td>269321.68</td>\n",
       "      <td>Year</td>\n",
       "      <td>N</td>\n",
       "      <td>Certified</td>\n",
       "    </tr>\n",
       "    <tr>\n",
       "      <th>221</th>\n",
       "      <td>EZYV222</td>\n",
       "      <td>North America</td>\n",
       "      <td>Doctorate</td>\n",
       "      <td>Y</td>\n",
       "      <td>Y</td>\n",
       "      <td>2518</td>\n",
       "      <td>2010</td>\n",
       "      <td>South</td>\n",
       "      <td>219529.62</td>\n",
       "      <td>Year</td>\n",
       "      <td>Y</td>\n",
       "      <td>Certified</td>\n",
       "    </tr>\n",
       "    <tr>\n",
       "      <th>...</th>\n",
       "      <td>...</td>\n",
       "      <td>...</td>\n",
       "      <td>...</td>\n",
       "      <td>...</td>\n",
       "      <td>...</td>\n",
       "      <td>...</td>\n",
       "      <td>...</td>\n",
       "      <td>...</td>\n",
       "      <td>...</td>\n",
       "      <td>...</td>\n",
       "      <td>...</td>\n",
       "      <td>...</td>\n",
       "    </tr>\n",
       "    <tr>\n",
       "      <th>25191</th>\n",
       "      <td>EZYV25192</td>\n",
       "      <td>Asia</td>\n",
       "      <td>Master's</td>\n",
       "      <td>N</td>\n",
       "      <td>N</td>\n",
       "      <td>4983</td>\n",
       "      <td>2005</td>\n",
       "      <td>Midwest</td>\n",
       "      <td>280482.51</td>\n",
       "      <td>Year</td>\n",
       "      <td>Y</td>\n",
       "      <td>Denied</td>\n",
       "    </tr>\n",
       "    <tr>\n",
       "      <th>25195</th>\n",
       "      <td>EZYV25196</td>\n",
       "      <td>North America</td>\n",
       "      <td>Master's</td>\n",
       "      <td>Y</td>\n",
       "      <td>N</td>\n",
       "      <td>47</td>\n",
       "      <td>2001</td>\n",
       "      <td>South</td>\n",
       "      <td>234308.77</td>\n",
       "      <td>Year</td>\n",
       "      <td>N</td>\n",
       "      <td>Certified</td>\n",
       "    </tr>\n",
       "    <tr>\n",
       "      <th>25468</th>\n",
       "      <td>EZYV25469</td>\n",
       "      <td>Asia</td>\n",
       "      <td>Bachelor's</td>\n",
       "      <td>N</td>\n",
       "      <td>N</td>\n",
       "      <td>373</td>\n",
       "      <td>2005</td>\n",
       "      <td>Midwest</td>\n",
       "      <td>272715.74</td>\n",
       "      <td>Year</td>\n",
       "      <td>N</td>\n",
       "      <td>Certified</td>\n",
       "    </tr>\n",
       "    <tr>\n",
       "      <th>25469</th>\n",
       "      <td>EZYV25470</td>\n",
       "      <td>North America</td>\n",
       "      <td>Master's</td>\n",
       "      <td>Y</td>\n",
       "      <td>N</td>\n",
       "      <td>2261</td>\n",
       "      <td>1997</td>\n",
       "      <td>Northeast</td>\n",
       "      <td>273772.47</td>\n",
       "      <td>Year</td>\n",
       "      <td>N</td>\n",
       "      <td>Certified</td>\n",
       "    </tr>\n",
       "    <tr>\n",
       "      <th>25476</th>\n",
       "      <td>EZYV25477</td>\n",
       "      <td>Asia</td>\n",
       "      <td>High School</td>\n",
       "      <td>Y</td>\n",
       "      <td>N</td>\n",
       "      <td>3274</td>\n",
       "      <td>2006</td>\n",
       "      <td>Northeast</td>\n",
       "      <td>279174.79</td>\n",
       "      <td>Year</td>\n",
       "      <td>Y</td>\n",
       "      <td>Certified</td>\n",
       "    </tr>\n",
       "  </tbody>\n",
       "</table>\n",
       "<p>427 rows × 12 columns</p>\n",
       "</div>"
      ],
      "text/plain": [
       "         case_id      continent education_of_employee has_job_experience  \\\n",
       "14        EZYV15           Asia              Master's                  Y   \n",
       "34        EZYV35           Asia              Master's                  N   \n",
       "130      EZYV131  South America           High School                  N   \n",
       "216      EZYV217           Asia              Master's                  Y   \n",
       "221      EZYV222  North America             Doctorate                  Y   \n",
       "...          ...            ...                   ...                ...   \n",
       "25191  EZYV25192           Asia              Master's                  N   \n",
       "25195  EZYV25196  North America              Master's                  Y   \n",
       "25468  EZYV25469           Asia            Bachelor's                  N   \n",
       "25469  EZYV25470  North America              Master's                  Y   \n",
       "25476  EZYV25477           Asia           High School                  Y   \n",
       "\n",
       "      requires_job_training  no_of_employees  yr_of_estab  \\\n",
       "14                        Y            15756         2006   \n",
       "34                        N             1809         2010   \n",
       "130                       N             2554         2005   \n",
       "216                       N             1515         2001   \n",
       "221                       Y             2518         2010   \n",
       "...                     ...              ...          ...   \n",
       "25191                     N             4983         2005   \n",
       "25195                     N               47         2001   \n",
       "25468                     N              373         2005   \n",
       "25469                     N             2261         1997   \n",
       "25476                     N             3274         2006   \n",
       "\n",
       "      region_of_employment  prevailing_wage unit_of_wage full_time_position  \\\n",
       "14                   South        220081.73         Year                  Y   \n",
       "34                   South        225569.73         Year                  N   \n",
       "130                Midwest        247393.01         Year                  Y   \n",
       "216                Midwest        269321.68         Year                  N   \n",
       "221                  South        219529.62         Year                  Y   \n",
       "...                    ...              ...          ...                ...   \n",
       "25191              Midwest        280482.51         Year                  Y   \n",
       "25195                South        234308.77         Year                  N   \n",
       "25468              Midwest        272715.74         Year                  N   \n",
       "25469            Northeast        273772.47         Year                  N   \n",
       "25476            Northeast        279174.79         Year                  Y   \n",
       "\n",
       "      case_status  \n",
       "14      Certified  \n",
       "34      Certified  \n",
       "130     Certified  \n",
       "216     Certified  \n",
       "221     Certified  \n",
       "...           ...  \n",
       "25191      Denied  \n",
       "25195   Certified  \n",
       "25468   Certified  \n",
       "25469   Certified  \n",
       "25476   Certified  \n",
       "\n",
       "[427 rows x 12 columns]"
      ]
     },
     "execution_count": 50,
     "metadata": {},
     "output_type": "execute_result"
    }
   ],
   "source": [
    "outliers_df=visa_df[con3]\n",
    "outliers_df"
   ]
  },
  {
   "cell_type": "code",
   "execution_count": 54,
   "id": "4ea8aa70-4560-497b-a548-d7c947e3664e",
   "metadata": {},
   "outputs": [
    {
     "data": {
      "text/html": [
       "<div>\n",
       "<style scoped>\n",
       "    .dataframe tbody tr th:only-of-type {\n",
       "        vertical-align: middle;\n",
       "    }\n",
       "\n",
       "    .dataframe tbody tr th {\n",
       "        vertical-align: top;\n",
       "    }\n",
       "\n",
       "    .dataframe thead th {\n",
       "        text-align: right;\n",
       "    }\n",
       "</style>\n",
       "<table border=\"1\" class=\"dataframe\">\n",
       "  <thead>\n",
       "    <tr style=\"text-align: right;\">\n",
       "      <th></th>\n",
       "      <th>case_id</th>\n",
       "      <th>continent</th>\n",
       "      <th>education_of_employee</th>\n",
       "      <th>has_job_experience</th>\n",
       "      <th>requires_job_training</th>\n",
       "      <th>no_of_employees</th>\n",
       "      <th>yr_of_estab</th>\n",
       "      <th>region_of_employment</th>\n",
       "      <th>prevailing_wage</th>\n",
       "      <th>unit_of_wage</th>\n",
       "      <th>full_time_position</th>\n",
       "      <th>case_status</th>\n",
       "    </tr>\n",
       "  </thead>\n",
       "  <tbody>\n",
       "    <tr>\n",
       "      <th>0</th>\n",
       "      <td>EZYV01</td>\n",
       "      <td>Asia</td>\n",
       "      <td>High School</td>\n",
       "      <td>N</td>\n",
       "      <td>N</td>\n",
       "      <td>14513</td>\n",
       "      <td>2007</td>\n",
       "      <td>West</td>\n",
       "      <td>592.2029</td>\n",
       "      <td>Hour</td>\n",
       "      <td>Y</td>\n",
       "      <td>Denied</td>\n",
       "    </tr>\n",
       "    <tr>\n",
       "      <th>1</th>\n",
       "      <td>EZYV02</td>\n",
       "      <td>Asia</td>\n",
       "      <td>Master's</td>\n",
       "      <td>Y</td>\n",
       "      <td>N</td>\n",
       "      <td>2412</td>\n",
       "      <td>2002</td>\n",
       "      <td>Northeast</td>\n",
       "      <td>83425.6500</td>\n",
       "      <td>Year</td>\n",
       "      <td>Y</td>\n",
       "      <td>Certified</td>\n",
       "    </tr>\n",
       "    <tr>\n",
       "      <th>2</th>\n",
       "      <td>EZYV03</td>\n",
       "      <td>Asia</td>\n",
       "      <td>Bachelor's</td>\n",
       "      <td>N</td>\n",
       "      <td>Y</td>\n",
       "      <td>44444</td>\n",
       "      <td>2008</td>\n",
       "      <td>West</td>\n",
       "      <td>122996.8600</td>\n",
       "      <td>Year</td>\n",
       "      <td>Y</td>\n",
       "      <td>Denied</td>\n",
       "    </tr>\n",
       "    <tr>\n",
       "      <th>3</th>\n",
       "      <td>EZYV04</td>\n",
       "      <td>Asia</td>\n",
       "      <td>Bachelor's</td>\n",
       "      <td>N</td>\n",
       "      <td>N</td>\n",
       "      <td>98</td>\n",
       "      <td>1897</td>\n",
       "      <td>West</td>\n",
       "      <td>83434.0300</td>\n",
       "      <td>Year</td>\n",
       "      <td>Y</td>\n",
       "      <td>Denied</td>\n",
       "    </tr>\n",
       "    <tr>\n",
       "      <th>4</th>\n",
       "      <td>EZYV05</td>\n",
       "      <td>Africa</td>\n",
       "      <td>Master's</td>\n",
       "      <td>Y</td>\n",
       "      <td>N</td>\n",
       "      <td>1082</td>\n",
       "      <td>2005</td>\n",
       "      <td>South</td>\n",
       "      <td>149907.3900</td>\n",
       "      <td>Year</td>\n",
       "      <td>Y</td>\n",
       "      <td>Certified</td>\n",
       "    </tr>\n",
       "    <tr>\n",
       "      <th>...</th>\n",
       "      <td>...</td>\n",
       "      <td>...</td>\n",
       "      <td>...</td>\n",
       "      <td>...</td>\n",
       "      <td>...</td>\n",
       "      <td>...</td>\n",
       "      <td>...</td>\n",
       "      <td>...</td>\n",
       "      <td>...</td>\n",
       "      <td>...</td>\n",
       "      <td>...</td>\n",
       "      <td>...</td>\n",
       "    </tr>\n",
       "    <tr>\n",
       "      <th>25474</th>\n",
       "      <td>EZYV25475</td>\n",
       "      <td>Africa</td>\n",
       "      <td>Doctorate</td>\n",
       "      <td>N</td>\n",
       "      <td>N</td>\n",
       "      <td>2594</td>\n",
       "      <td>1979</td>\n",
       "      <td>Northeast</td>\n",
       "      <td>51104.7800</td>\n",
       "      <td>Year</td>\n",
       "      <td>Y</td>\n",
       "      <td>Certified</td>\n",
       "    </tr>\n",
       "    <tr>\n",
       "      <th>25475</th>\n",
       "      <td>EZYV25476</td>\n",
       "      <td>Asia</td>\n",
       "      <td>Bachelor's</td>\n",
       "      <td>Y</td>\n",
       "      <td>Y</td>\n",
       "      <td>2601</td>\n",
       "      <td>2008</td>\n",
       "      <td>South</td>\n",
       "      <td>77092.5700</td>\n",
       "      <td>Year</td>\n",
       "      <td>Y</td>\n",
       "      <td>Certified</td>\n",
       "    </tr>\n",
       "    <tr>\n",
       "      <th>25477</th>\n",
       "      <td>EZYV25478</td>\n",
       "      <td>Asia</td>\n",
       "      <td>Master's</td>\n",
       "      <td>Y</td>\n",
       "      <td>N</td>\n",
       "      <td>1121</td>\n",
       "      <td>1910</td>\n",
       "      <td>South</td>\n",
       "      <td>146298.8500</td>\n",
       "      <td>Year</td>\n",
       "      <td>N</td>\n",
       "      <td>Certified</td>\n",
       "    </tr>\n",
       "    <tr>\n",
       "      <th>25478</th>\n",
       "      <td>EZYV25479</td>\n",
       "      <td>Asia</td>\n",
       "      <td>Master's</td>\n",
       "      <td>Y</td>\n",
       "      <td>Y</td>\n",
       "      <td>1918</td>\n",
       "      <td>1887</td>\n",
       "      <td>West</td>\n",
       "      <td>86154.7700</td>\n",
       "      <td>Year</td>\n",
       "      <td>Y</td>\n",
       "      <td>Certified</td>\n",
       "    </tr>\n",
       "    <tr>\n",
       "      <th>25479</th>\n",
       "      <td>EZYV25480</td>\n",
       "      <td>Asia</td>\n",
       "      <td>Bachelor's</td>\n",
       "      <td>Y</td>\n",
       "      <td>N</td>\n",
       "      <td>3195</td>\n",
       "      <td>1960</td>\n",
       "      <td>Midwest</td>\n",
       "      <td>70876.9100</td>\n",
       "      <td>Year</td>\n",
       "      <td>Y</td>\n",
       "      <td>Certified</td>\n",
       "    </tr>\n",
       "  </tbody>\n",
       "</table>\n",
       "<p>25053 rows × 12 columns</p>\n",
       "</div>"
      ],
      "text/plain": [
       "         case_id continent education_of_employee has_job_experience  \\\n",
       "0         EZYV01      Asia           High School                  N   \n",
       "1         EZYV02      Asia              Master's                  Y   \n",
       "2         EZYV03      Asia            Bachelor's                  N   \n",
       "3         EZYV04      Asia            Bachelor's                  N   \n",
       "4         EZYV05    Africa              Master's                  Y   \n",
       "...          ...       ...                   ...                ...   \n",
       "25474  EZYV25475    Africa             Doctorate                  N   \n",
       "25475  EZYV25476      Asia            Bachelor's                  Y   \n",
       "25477  EZYV25478      Asia              Master's                  Y   \n",
       "25478  EZYV25479      Asia              Master's                  Y   \n",
       "25479  EZYV25480      Asia            Bachelor's                  Y   \n",
       "\n",
       "      requires_job_training  no_of_employees  yr_of_estab  \\\n",
       "0                         N            14513         2007   \n",
       "1                         N             2412         2002   \n",
       "2                         Y            44444         2008   \n",
       "3                         N               98         1897   \n",
       "4                         N             1082         2005   \n",
       "...                     ...              ...          ...   \n",
       "25474                     N             2594         1979   \n",
       "25475                     Y             2601         2008   \n",
       "25477                     N             1121         1910   \n",
       "25478                     Y             1918         1887   \n",
       "25479                     N             3195         1960   \n",
       "\n",
       "      region_of_employment  prevailing_wage unit_of_wage full_time_position  \\\n",
       "0                     West         592.2029         Hour                  Y   \n",
       "1                Northeast       83425.6500         Year                  Y   \n",
       "2                     West      122996.8600         Year                  Y   \n",
       "3                     West       83434.0300         Year                  Y   \n",
       "4                    South      149907.3900         Year                  Y   \n",
       "...                    ...              ...          ...                ...   \n",
       "25474            Northeast       51104.7800         Year                  Y   \n",
       "25475                South       77092.5700         Year                  Y   \n",
       "25477                South      146298.8500         Year                  N   \n",
       "25478                 West       86154.7700         Year                  Y   \n",
       "25479              Midwest       70876.9100         Year                  Y   \n",
       "\n",
       "      case_status  \n",
       "0          Denied  \n",
       "1       Certified  \n",
       "2          Denied  \n",
       "3          Denied  \n",
       "4       Certified  \n",
       "...           ...  \n",
       "25474   Certified  \n",
       "25475   Certified  \n",
       "25477   Certified  \n",
       "25478   Certified  \n",
       "25479   Certified  \n",
       "\n",
       "[25053 rows x 12 columns]"
      ]
     },
     "execution_count": 54,
     "metadata": {},
     "output_type": "execute_result"
    }
   ],
   "source": [
    "\n",
    "wage_data=visa_df['prevailing_wage']\n",
    "q1=round(np.quantile(wage_data,0.25),2)\n",
    "q3=round(np.quantile(wage_data,0.75),2)\n",
    "iqr=q3-q1\n",
    "lb=q1-1.5*iqr\n",
    "ub=q3+1.5*iqr\n",
    "con1=visa_df['prevailing_wage']>lb\n",
    "con2=visa_df['prevailing_wage']<ub\n",
    "con3=con1&con2\n",
    "count=len(visa_df[con3])\n",
    "non_outliers_data=visa_df[con3]\n",
    "non_outliers_data\n"
   ]
  },
  {
   "cell_type": "code",
   "execution_count": 87,
   "id": "1b89f1e6-92e5-4816-8442-536114666517",
   "metadata": {},
   "outputs": [
    {
     "data": {
      "text/plain": [
       "<function matplotlib.pyplot.show(close=None, block=None)>"
      ]
     },
     "execution_count": 87,
     "metadata": {},
     "output_type": "execute_result"
    },
    {
     "data": {
      "image/png": "[encoded data removed]",
      "text/plain": [
       "<Figure size 640x480 with 1 Axes>"
      ]
     },
     "metadata": {},
     "output_type": "display_data"
    }
   ],
   "source": [
    "sns.boxplot(visa_df['prevailing_wage'],orient='h')\n",
    "plt.show"
   ]
  },
  {
   "cell_type": "code",
   "execution_count": 62,
   "id": "b91b3282-0fe5-4f8e-8fd3-ef8b2f3a15dd",
   "metadata": {},
   "outputs": [
    {
     "data": {
      "image/png": "[encoded data removed]",
      "text/plain": [
       "<Figure size 1000x800 with 4 Axes>"
      ]
     },
     "metadata": {},
     "output_type": "display_data"
    }
   ],
   "source": [
    "plt.figure(figsize=(10,8))\n",
    "plt.suptitle(\"wage plots\")\n",
    "plt.subplot(2,2,1)\n",
    "plt.hist(visa_df['prevailing_wage'])\n",
    "plt.title('wage_historam')\n",
    "plt.subplot(2,2,2)\n",
    "plt.boxplot(visa_df['prevailing_wage'],vert=False)\n",
    "plt.title('boxpolt_historam')\n",
    "plt.subplot(2,2,3)\n",
    "plt.hist(non_outliers_data['prevailing_wage'])\n",
    "plt.title('wage_historam_with_out_outliers')\n",
    "plt.subplot(2,2,4)\n",
    "plt.boxplot(non_outliers_data['prevailing_wage'],vert=False)\n",
    "plt.title('wage_boxplot_with_out_outliers')\n",
    "plt.show()"
   ]
  },
  {
   "cell_type": "code",
   "execution_count": 64,
   "id": "537e9b38-cc23-41f5-b6ef-5d9a4ca9f307",
   "metadata": {},
   "outputs": [
    {
     "data": {
      "image/png": "[encoded data removed]",
      "text/plain": [
       "<Figure size 640x480 with 4 Axes>"
      ]
     },
     "metadata": {},
     "output_type": "display_data"
    }
   ],
   "source": [
    "plt.subplot(2,2,1).hist(visa_df['prevailing_wage'])\n",
    "plt.subplot(2,2,2).boxplot(visa_df['prevailing_wage'],vert=False)\n",
    "plt.subplot(2,2,3).hist(non_outliers_data['prevailing_wage'])\n",
    "plt.subplot(2,2,4).boxplot(non_outliers_data['prevailing_wage'],vert=False)\n",
    "plt.show()"
   ]
  },
  {
   "cell_type": "code",
   "execution_count": null,
   "id": "c1492677-0a4f-4be9-81c2-b4c7cab11c20",
   "metadata": {},
   "outputs": [],
   "source": []
  }
 ],
 "metadata": {
  "kernelspec": {
   "display_name": "Python 3 (ipykernel)",
   "language": "python",
   "name": "python3"
  },
  "language_info": {
   "codemirror_mode": {
    "name": "ipython",
    "version": 3
   },
   "file_extension": ".py",
   "mimetype": "text/x-python",
   "name": "python",
   "nbconvert_exporter": "python",
   "pygments_lexer": "ipython3",
   "version": "3.12.4"
  }
 },
 "nbformat": 4,
 "nbformat_minor": 5
}
